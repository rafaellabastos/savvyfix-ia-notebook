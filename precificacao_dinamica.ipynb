{
  "nbformat": 4,
  "nbformat_minor": 0,
  "metadata": {
    "colab": {
      "provenance": [],
      "include_colab_link": true
    },
    "kernelspec": {
      "name": "python3",
      "display_name": "Python 3"
    },
    "language_info": {
      "name": "python"
    }
  },
  "cells": [
    {
      "cell_type": "markdown",
      "metadata": {
        "id": "view-in-github",
        "colab_type": "text"
      },
      "source": [
        "<a href=\"https://colab.research.google.com/github/rafaellabastos/savvyfix-ia-notebook/blob/arvore/precificacao_dinamica.ipynb\" target=\"_parent\"><img src=\"https://colab.research.google.com/assets/colab-badge.svg\" alt=\"Open In Colab\"/></a>"
      ]
    },
    {
      "cell_type": "markdown",
      "source": [
        "# **SavvyFix - Precificação dinâmica**\n",
        "\n",
        "<p>2TDSPF</p>\n",
        "\n",
        "<p>Douglas Magalhães de Araujo - 552008</p>\n",
        "<p>Erik Yuuzo Kobayachi Yamada - 98027</p>\n",
        "<p>Gustavo Argüello Bertacci - 551304</p>\n",
        "<p>Luiz Fillipe Farias - 99519</p>\n",
        "<p>Rafaella Monique do Carmo Bastos - 552425</p>"
      ],
      "metadata": {
        "id": "P80lJjGWSSTu"
      }
    },
    {
      "cell_type": "markdown",
      "source": [
        "# **Dataset**\n",
        "\n",
        "<p>Dataset presente na raíz do repositório no Github com o nome \"datasetIA.xlsx\"</p>\n",
        "<br>\n",
        "\n",
        "## Descrição da base de dados utilizada\n",
        "<p>A base de dados utilizada diz respeito às informações coletadas por meio dos cookies sobre as informações de cada cliente, sejam informações fixas (nome e produto), sobre seu atual estado (localização, horário e clima) ou informações sobre a utilização do site (procura e demanda).</p>\n",
        "<br>\n",
        "<p><b>1.  Nome:</b> a coluna “Nome” indica o nome completo do usuário que está cadastrado no sistema.</p>\n",
        "<p><b>2. CPF: </b> a coluna \"CPF\" indica o CPF do usuário cadastrado no sistema</p>\n",
        "<p><b>2. Produto:</b> a coluna “Produto” indica o nome do produto vendido no site que será utilizado para determinar o preço dinâmico para determinado usuário.</p>\n",
        "<p><b>3. Localização:</b> a coluna “Localização” indica o estado que o usuário está quando ele visitou o site no formato de siglas.</p>\n",
        "<p><b>4. Horário:</b> a coluna “Horário” indica o horário no momento que o usuário entrou no site no formato hh:mm.</p>\n",
        "<p><b>5. Clima:</b> a coluna “Clima” indica o clima no momento que o usuário entrou no site no formato de número.</p>\n",
        "<p><b>6. Procura:</b> a coluna “Procura” indica a quantidade de vezes que o usuário procurou por aquele produto em um dia.</p>\n",
        "<p><b>7. Demanda:</b> a coluna “Demanda” indica se, no geral, um produto está com procura alta, média ou baixa.</p>\n"
      ],
      "metadata": {
        "id": "xyKfKg3O_gKR"
      }
    },
    {
      "cell_type": "markdown",
      "source": [
        "## **Protótipo Funcional**"
      ],
      "metadata": {
        "id": "gjY-4kbpJQe3"
      }
    },
    {
      "cell_type": "markdown",
      "source": [
        "<b>Importação das bibliotecas</b>"
      ],
      "metadata": {
        "id": "MVDBQP0nxoBJ"
      }
    },
    {
      "cell_type": "code",
      "source": [
        "import pandas as pd\n",
        "import matplotlib.pyplot as plt\n",
        "import seaborn as sns\n",
        "\n",
        "from sklearn.model_selection import train_test_split\n",
        "from sklearn.tree import DecisionTreeRegressor\n",
        "from sklearn.metrics import mean_absolute_error, r2_score\n",
        "from sklearn.preprocessing import LabelEncoder"
      ],
      "metadata": {
        "id": "GhO_UCkMjOzC"
      },
      "execution_count": 1,
      "outputs": []
    },
    {
      "cell_type": "markdown",
      "source": [
        "<b>Tratamento e visualização do dataset</b>"
      ],
      "metadata": {
        "id": "T9Tbpt1bxwvQ"
      }
    },
    {
      "cell_type": "code",
      "source": [
        "# Carregando o dataset\n",
        "df = pd.read_excel('datasetIA.xlsx', sheet_name='Planilha1')\n",
        "\n",
        "# Corrigindo o nome da coluna com espaço extra\n",
        "df.columns = df.columns.str.strip()\n",
        "\n",
        "## Exclusão de temperaturas abaixo de 0º\n",
        "df['Clima'] = pd.to_numeric(df['Clima'], errors='coerce')\n",
        "df_temp = df[(df['Clima'] >= 0) & (df['Clima'].notna())]\n",
        "\n",
        "# Tratando valores nulos\n",
        "df_clean = df_temp.dropna()\n",
        "\n",
        "# Visualização do dataset\n",
        "print(df_clean.head())"
      ],
      "metadata": {
        "id": "LkLhY4Kajvcx",
        "outputId": "d0ea28b1-ba01-4154-ffaa-793812eb6d0d",
        "colab": {
          "base_uri": "https://localhost:8080/"
        }
      },
      "execution_count": 2,
      "outputs": [
        {
          "output_type": "stream",
          "name": "stdout",
          "text": [
            "                      Nome     Produto Localização   Horário  Clima  Procura  \\\n",
            "1  Pedro Henrique Oliveira    Converse          PR  18:23:00   25.0     24.0   \n",
            "2    Maria Fernanda Santos      Oakley          AP  02:38:00   30.0     24.0   \n",
            "4    Carla Rodrigues Costa  Piccadilly          SC  04:39:00   32.0     26.0   \n",
            "5    Lucas Gabriel Pereira      Colcci          RR  22:06:00   40.0     27.0   \n",
            "6    Juliana Martins Souza        Vans          TO  10:23:00   28.0     15.0   \n",
            "\n",
            "  Demanda  \n",
            "1   Baixa  \n",
            "2   Média  \n",
            "4    Alta  \n",
            "5    Alta  \n",
            "6    Alta  \n"
          ]
        }
      ]
    },
    {
      "cell_type": "markdown",
      "source": [
        "**Definição das porcentagens**"
      ],
      "metadata": {
        "id": "o6_5FsdLFmdW"
      }
    },
    {
      "cell_type": "code",
      "source": [
        "# Definição das porcentagens de acordo com cada critério\n",
        "porcentagem_localizacao = {\n",
        "    'RS': 0.03, 'SC': 0.02, 'PR': 0.01, 'SP': 0.03, 'RJ': 0.02, 'ES': 0,\n",
        "    'MG': 0.01, 'MT': -0.01, 'MS': -0.01, 'GO': -0.01, 'AM': -0.02, 'AC': -0.03,\n",
        "    'RO': -0.02, 'RR': -0.02, 'AP': -0.02, 'PA': 0, 'TO': -0.01, 'MA': 0.01,\n",
        "    'PI': -0.01, 'BA': 0.02, 'CE': 0.01, 'RN': -0.01, 'SE': -0.02, 'AL': 0,\n",
        "    'PE': 0.01, 'PB': -0.02, 'Desconhecido': 0\n",
        "}\n",
        "\n",
        "porcentagem_horario = {\n",
        "    '00h-00h59': -0.01, '01h-01h59': -0.02, '02h-02h59': -0.03, '03h-03h59': -0.03,\n",
        "    '04h-04h59': -0.02, '05h-05h59': -0.01, '06h-06h59': -0.01, '07h-07h59': 0,\n",
        "    '08h-08h59': 0, '09h-09h59': 0.01, '10h-10h59': 0.01, '11h-11h59': 0.02,\n",
        "    '12h-12h59': 0.03, '13h-13h59': 0.03, '14h-14h59': 0.02, '15h-15h59': 0.01,\n",
        "    '16h-16h59': 0, '17h-17h59': 0, '18h-18h59': 0.01, '19h-19h59': 0.02,\n",
        "    '20h-20h59': 0.03, '21h-21h59': 0.02, '22h-22h59': 0.01, '23h-23h59': 0\n",
        "}\n",
        "\n",
        "porcentagem_clima = {\n",
        "    '1º a 3º': 0.03, '4º a 6º': 0.02, '7º a 9º': 0.02, '10º a 12º': 0.01, '13º a 15º': 0,\n",
        "    '16º a 18º': -0.01, '19º a 21º': -0.02, '22º a 24º': -0.02, '25º a 27º': 0, '28º a 30º': 0.01,\n",
        "    '31º a 33º': 0.01, '34º a 36º': 0.02, '37º a 39º': 0.03, '+40º': 0.04\n",
        "}\n",
        "\n",
        "porcentagem_procura = {\n",
        "    '1x': 0, '2 a 3x': 0.01, '4 a 7x': 0.03, '8 a 13x': 0, '14 a 17x': -0.02,\n",
        "    '17 a 20x': 0.01, '+21x': 0, 'Desconhecido': 0\n",
        "}\n",
        "\n",
        "porcentagem_demanda = {\n",
        "    'Alta': 0.02, 'Média': 0, 'Baixa': -0.02, 'Desconhecido': 0\n",
        "}"
      ],
      "metadata": {
        "id": "IbUYV6tTJcBk"
      },
      "execution_count": 3,
      "outputs": []
    },
    {
      "cell_type": "code",
      "source": [
        "def preparar_dataframe(df):\n",
        "    # Aplica a variação de localização\n",
        "    df['Variação Localização'] = df['Localização'].map(porcentagem_localizacao).fillna(0)\n",
        "\n",
        "    # Aplica a variação de horário\n",
        "    df['Horário'] = df['Horário'].astype(str).str.strip()\n",
        "    df['Variação Horário'] = df['Horário'].apply(lambda x: porcentagem_horario.get(f\"{int(x.split(':')[0]):02d}h-{int(x.split(':')[0]):02d}h59\", 0))\n",
        "\n",
        "    # Aplica a variação de clima\n",
        "    df['Clima'] = pd.to_numeric(df['Clima'], errors='coerce').fillna(0)\n",
        "    df['Variação Clima'] = df['Clima'].apply(lambda x: obter_variacao_clima(x))\n",
        "\n",
        "    # Aplica a variação de procura\n",
        "    df['Variação Procura'] = df['Procura'].map(porcentagem_procura).fillna(0)\n",
        "\n",
        "    # Aplica a variação de demanda\n",
        "    df['Variação Demanda'] = df['Demanda'].map(porcentagem_demanda).fillna(0)\n",
        "\n",
        "    # Calcula o preço final\n",
        "    preco_base = 100\n",
        "    df['Preço Final'] = preco_base * (1 +\n",
        "                                       df['Variação Localização'] +\n",
        "                                       df['Variação Horário'] +\n",
        "                                       df['Variação Clima'] +\n",
        "                                       df['Variação Procura'] +\n",
        "                                       df['Variação Demanda'])\n",
        "    return df\n",
        "\n",
        "def obter_variacao_clima(clima):\n",
        "    for faixa, variacao in porcentagem_clima.items():\n",
        "        if faixa.startswith('+') or faixa.startswith('-'):\n",
        "            limites = faixa.split('º a ')\n",
        "            if len(limites) == 2:\n",
        "                limite_inferior = int(limites[0].replace('º', ''))\n",
        "                limite_superior = int(limites[1].replace('º', ''))\n",
        "                if limite_inferior <= clima <= limite_superior:\n",
        "                    return variacao\n",
        "            else:\n",
        "                limite_inferior = int(limites[0].replace('+', '').replace('º', ''))\n",
        "                if clima >= limite_inferior:\n",
        "                    return variacao\n",
        "        else:\n",
        "            if faixa == f'{clima}':\n",
        "                return variacao\n",
        "    return 0\n"
      ],
      "metadata": {
        "id": "ENPyKjk7mSP0"
      },
      "execution_count": 4,
      "outputs": []
    },
    {
      "cell_type": "markdown",
      "source": [
        "**Árvore de decisão**"
      ],
      "metadata": {
        "id": "lfGM8aY1FgMn"
      }
    },
    {
      "cell_type": "code",
      "source": [
        "df_tree = preparar_dataframe(df_clean.copy())\n",
        "\n",
        "# Codificando as variáveis categóricas\n",
        "le_localizacao = LabelEncoder()\n",
        "le_horario = LabelEncoder()\n",
        "le_procura = LabelEncoder()\n",
        "le_demanda = LabelEncoder()\n",
        "\n",
        "df_tree['Localização'] = le_localizacao.fit_transform(df_tree['Localização'])\n",
        "df_tree['Horário'] = le_horario.fit_transform(df_tree['Horário'])\n",
        "df_tree['Procura'] = le_procura.fit_transform(df_tree['Procura'])\n",
        "df_tree['Demanda'] = le_demanda.fit_transform(df_tree['Demanda'])\n",
        "\n",
        "# Definindo features e target\n",
        "X = df_tree[['Localização', 'Horário', 'Clima', 'Procura', 'Demanda']]\n",
        "y = df_tree['Preço Final']\n",
        "\n",
        "# Dividindo o dataset\n",
        "X_train, X_test, y_train, y_test = train_test_split(X, y, test_size=0.2, random_state=42)\n"
      ],
      "metadata": {
        "id": "J2YGNX8oFwC7"
      },
      "execution_count": 5,
      "outputs": []
    },
    {
      "cell_type": "code",
      "source": [
        "print(df_tree[['Nome', 'Produto', 'Preço Final']].head())\n"
      ],
      "metadata": {
        "colab": {
          "base_uri": "https://localhost:8080/"
        },
        "id": "SG6IYwqGmwog",
        "outputId": "568601c4-efef-45cd-a5ec-9e61ccd743a3"
      },
      "execution_count": 6,
      "outputs": [
        {
          "output_type": "stream",
          "name": "stdout",
          "text": [
            "                      Nome     Produto  Preço Final\n",
            "1  Pedro Henrique Oliveira    Converse        100.0\n",
            "2    Maria Fernanda Santos      Oakley         95.0\n",
            "4    Carla Rodrigues Costa  Piccadilly        102.0\n",
            "5    Lucas Gabriel Pereira      Colcci        105.0\n",
            "6    Juliana Martins Souza        Vans        102.0\n"
          ]
        }
      ]
    },
    {
      "cell_type": "code",
      "source": [
        "# Salvar o dataset em um arquivo JSON\n",
        "df_tree.to_json('PrecoFinal_JSON.json', orient='records', lines=True)"
      ],
      "metadata": {
        "id": "DIWMJzI5bKll"
      },
      "execution_count": 7,
      "outputs": []
    },
    {
      "cell_type": "code",
      "source": [
        "# Salvar o dataset em um arquivo Excel\n",
        "df_tree.to_excel('PrecoFinal_Excel.xlsx')"
      ],
      "metadata": {
        "id": "cPCPtvJkjiVd"
      },
      "execution_count": 8,
      "outputs": []
    }
  ]
}